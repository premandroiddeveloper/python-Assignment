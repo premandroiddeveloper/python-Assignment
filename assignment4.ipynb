{
 "cells": [
  {
   "cell_type": "code",
   "execution_count": 12,
   "metadata": {},
   "outputs": [
    {
     "name": "stdout",
     "output_type": "stream",
     "text": [
      "enter side a value:10\n",
      "enter side b value:10\n",
      "enter side c value:10\n",
      "the area is 43.30127018922193\n"
     ]
    }
   ],
   "source": [
    "class parent:\n",
    "    def __init__(self,sidea,sideb,sidec):\n",
    "      self.a=sidea\n",
    "      self.b=sideb\n",
    "      self.c=sidec\n",
    "\n",
    "class sub(parent):\n",
    "    def calarea(self):\n",
    "       s=(self.a+self.b+self.c)/2\n",
    "       return (s*(s-self.a)*(s-self.b)*(s-self.c))**0.5\n",
    "    \n",
    "x=int(input(\"enter side a value:\"))\n",
    "y=int(input(\"enter side b value:\"))\n",
    "z=int(input(\"enter side c value:\"))\n",
    "area=sub(x,y,z)\n",
    "print(\"the area is {}\".format(area.calarea()))\n"
   ]
  },
  {
   "cell_type": "code",
   "execution_count": 15,
   "metadata": {},
   "outputs": [
    {
     "name": "stdout",
     "output_type": "stream",
     "text": [
      "enter a Limit:5\n",
      "['nishant', 'jayrajsingh']\n"
     ]
    }
   ],
   "source": [
    "#practical 2\n",
    "final=[]\n",
    "def filter_long_words(lista,limit):\n",
    "    for check in lista:\n",
    "        if(len(check)>limit):\n",
    "            final.append(check)\n",
    "    return final\n",
    "    \n",
    "    \n",
    "x=[\"prem\",\"raj\",\"nishant\",\"Bhumi\",\"Aman\",\"vishv\",\"jayrajsingh\",\"cader\"]\n",
    "y=int(input(\"enter a Limit:\"))\n",
    "print(filter_long_words(x,y))"
   ]
  },
  {
   "cell_type": "code",
   "execution_count": 19,
   "metadata": {},
   "outputs": [
    {
     "name": "stdout",
     "output_type": "stream",
     "text": [
      "[2, 3, 4]\n"
     ]
    }
   ],
   "source": [
    "#PRACTICAL 3\n",
    "ANW=[]\n",
    "def checkforcheck(lists):\n",
    "    for x in lists:\n",
    "        ANW.append(len(x))\n",
    "    return ANW\n",
    "print(checkforcheck([\"ab\",\"cde\",\"erty\"]))\n"
   ]
  },
  {
   "cell_type": "code",
   "execution_count": 17,
   "metadata": {},
   "outputs": [
    {
     "name": "stdout",
     "output_type": "stream",
     "text": [
      "enter a charactera\n",
      "True\n"
     ]
    }
   ],
   "source": [
    "#practical 4\n",
    "def checkforvowel(check):\n",
    "   if(check=='A' or check=='I' or check=='O' or check=='E' or check=='U' or check=='a' or check=='e' or check=='i' or check=='o' or check=='u'):\n",
    "    \n",
    "    return True\n",
    "   else:\n",
    "        return False\n",
    "\n",
    "\n",
    "x=input(\"enter a character\")\n",
    "print(checkforvowel(x))"
   ]
  },
  {
   "cell_type": "code",
   "execution_count": null,
   "metadata": {},
   "outputs": [],
   "source": []
  }
 ],
 "metadata": {
  "kernelspec": {
   "display_name": "Python 3",
   "language": "python",
   "name": "python3"
  },
  "language_info": {
   "codemirror_mode": {
    "name": "ipython",
    "version": 3
   },
   "file_extension": ".py",
   "mimetype": "text/x-python",
   "name": "python",
   "nbconvert_exporter": "python",
   "pygments_lexer": "ipython3",
   "version": "3.8.5"
  }
 },
 "nbformat": 4,
 "nbformat_minor": 4
}
